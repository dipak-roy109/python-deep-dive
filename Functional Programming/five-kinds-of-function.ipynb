{
 "cells": [
  {
   "cell_type": "markdown",
   "metadata": {
    "collapsed": false
   },
   "source": [
    "Tutorials - [Five Kinds of Python Functions - Steven Lott](https://www.youtube.com/watch?v=U4wT-55GqkM)\n",
    "\n",
    "### Kinds of Function\n",
    "\n",
    "- Essential function\n",
    "- Higher-Order Function \n",
    "- Function Wrappers(methods)\n",
    "- Lambdas\n",
    "- Callable objects\n",
    "- Decorators\n",
    "- Generators\n",
    "\n",
    "### Terminology\n",
    "\n",
    "- The highr-order function like `map()` are lazy\n",
    "    - they only create object when there's a consumer\n",
    "    - we use `list()/tuple()` to consume values and create a sequence object\n",
    "        - this forces `map()` to actually get up off the couch and compute something...\n",
    "- Most functions we write are 'eager'\n",
    "    - they immediately create an object\n",
    "- Essential function\n",
    "    - Create with `def` and `return` \n",
    "- Higher-Order function (take func as args | return func as result)\n",
    "    - `map(), filter(), functools library, sorted(), min(), max()`\n",
    "- Function wrappers\n",
    "    - `str(), repr(), len(), divmood()`\n",
    "- lambds\n",
    "- Callable objects\n",
    "    - Class with `__call__()` method\n",
    "- Decorator\n",
    "- Generator with `yield`"
   ]
  }
 ],
 "metadata": {
  "kernelspec": {
   "display_name": "Python 3 (system-wide)",
   "env": {
   },
   "language": "python",
   "metadata": {
    "cocalc": {
     "description": "Python 3 programming language",
     "priority": 100,
     "url": "https://www.python.org/"
    }
   },
   "name": "python3",
   "resource_dir": "/ext/jupyter/kernels/python3"
  },
  "language_info": {
   "codemirror_mode": {
    "name": "ipython",
    "version": 3
   },
   "file_extension": ".py",
   "mimetype": "text/x-python",
   "name": "python",
   "nbconvert_exporter": "python",
   "pygments_lexer": "ipython3",
   "version": "3.8.10"
  }
 },
 "nbformat": 4,
 "nbformat_minor": 4
}