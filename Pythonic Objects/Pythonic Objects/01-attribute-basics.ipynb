{
 "cells": [
  {
   "cell_type": "markdown",
   "metadata": {},
   "source": [
    "Tutorials — [Luciano Ramalho - Pythonic Objects: idiomatic OOP in Python - PyCon 2019](https://www.youtube.com/watch?v=mUu_4k6a5-I)\n",
    "\n",
    "Github Repo — https://github.com/ramalho/pyob"
   ]
  },
  {
   "cell_type": "code",
   "execution_count": 1,
   "metadata": {},
   "outputs": [
    {
     "name": "stdout",
     "output_type": "stream",
     "text": [
      "3.8.10 (default, Mar 13 2023, 10:26:41) \n",
      "[GCC 9.4.0]\n"
     ]
    }
   ],
   "source": [
    "import sys\n",
    "print(sys.version)"
   ]
  },
  {
   "cell_type": "markdown",
   "metadata": {},
   "source": [
    "- Descriptors is class attribute that design to manage attributes in the instances.\n",
    "- Attributes defined in a class are called class attribute.\n",
    "\n",
    "```py\n",
    "from django.db import models\n",
    "\n",
    "class Musician(models.Model):\n",
    "    first_name = models.CharField(max_length=100)\n",
    "    last_name = models.CharField(max_length=50)\n",
    "    instrument = models.CharField(max_length=100)\n",
    "```"
   ]
  },
  {
   "cell_type": "code",
   "execution_count": 2,
   "metadata": {},
   "outputs": [
    {
     "name": "stdout",
     "output_type": "stream",
     "text": [
      "<__main__.Coordinate object at 0x7fdf83299c10>\n",
      "-81.8\n"
     ]
    }
   ],
   "source": [
    "class Coordinate:\n",
    "    \"\"\"Coordinate on Earth\"\"\"\n",
    "\n",
    "cle = Coordinate()\n",
    "cle.lat = 41.4\n",
    "cle.long = -81.8\n",
    "print(cle)\n",
    "print(cle.long)"
   ]
  },
  {
   "cell_type": "code",
   "execution_count": 3,
   "metadata": {},
   "outputs": [
    {
     "name": "stdout",
     "output_type": "stream",
     "text": [
      "Coordinate(41.4,-81.8)\n"
     ]
    }
   ],
   "source": [
    "class Coordinate:\n",
    "    def __repr__(self):\n",
    "        return f'Coordinate({self.lat},{self.long})'\n",
    "c = Coordinate()\n",
    "c.lat = 41.4\n",
    "c.long = -81.8\n",
    "print(c)"
   ]
  },
  {
   "cell_type": "code",
   "execution_count": 4,
   "metadata": {},
   "outputs": [],
   "source": [
    "\n",
    "class Coordinate:\n",
    "    lat = 0.0\n",
    "    long = 0.0\n",
    "        \n",
    "    def __repr__(self):\n",
    "        return f'Coordinate({self.lat}, {self.long})'\n",
    "    \n",
    "    def __str__(self):\n",
    "        ns = 'NS'[self.lat < 0]\n",
    "        we = 'EW'[self.long < 0]\n",
    "        return f'{abs(self.lat):.1f}°{ns}, {abs(self.long):.1f}°{we}'"
   ]
  },
  {
   "cell_type": "code",
   "execution_count": 5,
   "metadata": {},
   "outputs": [
    {
     "name": "stdout",
     "output_type": "stream",
     "text": [
      "41.4°N, 81.8°W\n"
     ]
    }
   ],
   "source": [
    "cle = Coordinate()\n",
    "cle.lat = 41.4\n",
    "cle.long = -81.8\n",
    "print(cle)"
   ]
  },
  {
   "cell_type": "code",
   "execution_count": 6,
   "metadata": {},
   "outputs": [
    {
     "name": "stdout",
     "output_type": "stream",
     "text": [
      "0.0°N, 0.0°E\n"
     ]
    }
   ],
   "source": [
    "gulf_of_guinea = Coordinate()\n",
    "print(gulf_of_guinea)"
   ]
  },
  {
   "cell_type": "code",
   "execution_count": 7,
   "metadata": {},
   "outputs": [
    {
     "name": "stdout",
     "output_type": "stream",
     "text": [
      "{'flavor': 'Cheese', 'flavor2': None}\n",
      "{'flavor': 'Cheese', 'flavor2': None}\n",
      "{'__module__': '__main__', 'diameter': 40, 'slices': 8, '__init__': <function Pizza.__init__ at 0x7fdf832a5160>, '__dict__': <attribute '__dict__' of 'Pizza' objects>, '__weakref__': <attribute '__weakref__' of 'Pizza' objects>, '__doc__': None}\n"
     ]
    }
   ],
   "source": [
    "class Pizza:\n",
    "\n",
    "    diameter = 40\n",
    "    slices = 8\n",
    "\n",
    "    def __init__(self, flavor='Cheese', flavor2=None):\n",
    "        self.flavor = flavor\n",
    "        self.flavor2 = flavor2\n",
    "        \n",
    "p = Pizza()\n",
    "print(p.__dict__)\n",
    "q = Pizza()\n",
    "print(q.__dict__)\n",
    "print(Pizza.__dict__)\n",
    "\n",
    "# PEP 412 — Key-Sharing dictionary (https://www.python.org/dev/peps/pep-0412/)"
   ]
  },
  {
   "cell_type": "markdown",
   "metadata": {},
   "source": [
    "### Lab #1 Enhancing Coordinate"
   ]
  },
  {
   "cell_type": "code",
   "execution_count": 8,
   "metadata": {},
   "outputs": [],
   "source": [
    "import geohash\n",
    "\n",
    "class Coordinate:\n",
    "    \"\"\"Coordinate on Earth\"\"\"\n",
    "\n",
    "    reference_system = 'WGS84'\n",
    "\n",
    "    def __init__(self, lat=0.0, long=0.0):\n",
    "        self.lat = lat\n",
    "        self.long = long\n",
    "\n",
    "    def __repr__(self):\n",
    "        return f'Coordinate({self.lat}, {self.long})'\n",
    "\n",
    "    def __str__(self):\n",
    "        ns = 'NS'[self.lat < 0]\n",
    "        we = 'EW'[self.long < 0]\n",
    "        return f'{abs(self.lat):.1f}°{ns}, {abs(self.long):.1f}°{we}'\n",
    "\n",
    "    def geohash(self):\n",
    "        return geohash.encode(self.lat, self.long)"
   ]
  },
  {
   "cell_type": "code",
   "execution_count": 9,
   "metadata": {},
   "outputs": [
    {
     "data": {
      "text/plain": [
       "Coordinate(0.0, 0.0)"
      ]
     },
     "execution_count": 9,
     "metadata": {},
     "output_type": "execute_result"
    }
   ],
   "source": [
    "gulf_of_guinea = Coordinate()\n",
    "gulf_of_guinea"
   ]
  },
  {
   "cell_type": "code",
   "execution_count": 10,
   "metadata": {},
   "outputs": [
    {
     "data": {
      "text/plain": [
       "Coordinate(51.5, 0.0)"
      ]
     },
     "execution_count": 10,
     "metadata": {},
     "output_type": "execute_result"
    }
   ],
   "source": [
    "greenwich = Coordinate(51.5)\n",
    "greenwich"
   ]
  },
  {
   "cell_type": "code",
   "execution_count": 11,
   "metadata": {},
   "outputs": [
    {
     "name": "stdout",
     "output_type": "stream",
     "text": [
      "51.5°N, 0.1°W\n"
     ]
    }
   ],
   "source": [
    "london = Coordinate(51.5, -0.1)\n",
    "print(london)"
   ]
  },
  {
   "cell_type": "code",
   "execution_count": 12,
   "metadata": {},
   "outputs": [
    {
     "data": {
      "text/plain": [
       "'WGS84'"
      ]
     },
     "execution_count": 12,
     "metadata": {},
     "output_type": "execute_result"
    }
   ],
   "source": [
    "Coordinate.reference_system"
   ]
  },
  {
   "cell_type": "code",
   "execution_count": 13,
   "metadata": {},
   "outputs": [
    {
     "name": "stdout",
     "output_type": "stream",
     "text": [
      "WGS84\n",
      "dpmuhfggh08w\n"
     ]
    }
   ],
   "source": [
    "cleveland = Coordinate(41.5, -81.7)\n",
    "print(cleveland.reference_system)\n",
    "print(cleveland.geohash())"
   ]
  }
 ],
 "metadata": {
  "kernelspec": {
   "display_name": "Python 3 (system-wide)",
   "language": "python",
   "name": "python3"
  },
  "language_info": {
   "codemirror_mode": {
    "name": "ipython",
    "version": 3
   },
   "file_extension": ".py",
   "mimetype": "text/x-python",
   "name": "python",
   "nbconvert_exporter": "python",
   "pygments_lexer": "ipython3",
   "version": "3.8.10"
  }
 },
 "nbformat": 4,
 "nbformat_minor": 2
}
