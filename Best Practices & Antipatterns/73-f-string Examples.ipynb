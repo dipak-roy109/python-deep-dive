{
 "cells": [
  {
   "cell_type": "markdown",
   "metadata": {},
   "source": [
    "Original Post : [Python F-String: 73 Examples to Help You Master It\n",
    "](https://miguendes.me/73-examples-to-help-you-master-pythons-f-strings)\n",
    "\n",
    "Formatted string can start with either f or F, also can combine with raw strings to produce a formatted output. But can't mixed with bytes `b` or `u`"
   ]
  },
  {
   "cell_type": "code",
   "execution_count": 1,
   "metadata": {},
   "outputs": [
    {
     "name": "stdout",
     "output_type": "stream",
     "text": [
      "Hello World\n",
      "Hello World\n",
      "Hello World\n",
      "Hello World\n",
      "The book `The Spy` has 200 pages.\n",
      "The book `The Spy` has 200 pages.\n",
      "The book `The Spy` has 200 pages.\\n\n"
     ]
    }
   ],
   "source": [
    "message = 'Hello World'\n",
    "print(F'{message}')\n",
    "print(f'{message}') \n",
    "print(fr'{message}')\n",
    "print(FR'{message}')  \n",
    "book = 'The Spy'\n",
    "pages = 200\n",
    "\n",
    "print(f'The book `{book}` has {pages} pages.')\n",
    "print(F'The book `{book}` has {pages} pages.')\n",
    "print(fr'The book `{book}` has {pages} pages.\\n')"
   ]
  },
  {
   "cell_type": "markdown",
   "metadata": {},
   "source": [
    "f-strings evaluate expressions in the context where they appear.\n",
    "According the the PEP 498 , this means the expression has full access to local and global variables.\n",
    "They're also an expression evaluated at runtime. If the expression used inside the\n",
    "{ <expr> } cannot be evaluated, the interpreter will raise an exception."
   ]
  },
  {
   "cell_type": "code",
   "execution_count": 2,
   "metadata": {},
   "outputs": [
    {
     "name": "stdout",
     "output_type": "stream",
     "text": [
      "Python\n"
     ]
    }
   ],
   "source": [
    "# print(f'{name}') //= NameError\n",
    "\n",
    "# But It has no problem with str.format\n",
    "print('{name}'.format(name='Python'))"
   ]
  },
  {
   "cell_type": "markdown",
   "metadata": {},
   "source": [
    "If you don't want to define variables, you can use literals inside the brackets.\n",
    "Python will evaluate the expression and display the final result."
   ]
  },
  {
   "cell_type": "code",
   "execution_count": 3,
   "metadata": {},
   "outputs": [
    {
     "name": "stdout",
     "output_type": "stream",
     "text": [
      "4 * 4 is 16\n"
     ]
    }
   ],
   "source": [
    "print(f'4 * 4 is {4 *4}')"
   ]
  },
  {
   "cell_type": "markdown",
   "metadata": {},
   "source": [
    "One of most frequent usages of f-string is debugging. Before Python 3.8, many people would do hello = 42; f\"hello = {hello}\", but this is very repetitive. As a result, Python 3.8 brought a new feature. You can re-write that expression as f\"{hello=}\" and Python will display hello=42. The following example illustrates this using a function, but the principle is the same."
   ]
  },
  {
   "cell_type": "code",
   "execution_count": 4,
   "metadata": {},
   "outputs": [
    {
     "name": "stdout",
     "output_type": "stream",
     "text": [
      "magic_number() = 42\n",
      "magic_number() = 42\n"
     ]
    }
   ],
   "source": [
    "def magic_number():\n",
    "    return 42\n",
    "\n",
    "# before 3.8\n",
    "print(f'magic_number() = {magic_number()}')\n",
    "# After 3.8\n",
    "print(f'{magic_number() = }')"
   ]
  },
  {
   "cell_type": "markdown",
   "metadata": {},
   "source": [
    "Format Numbers in Different Bases:\n",
    "f-strings also allow you to display an integer in different bases. For example, you can display an int as binary without converting it by using the b option."
   ]
  },
  {
   "cell_type": "code",
   "execution_count": 5,
   "metadata": {},
   "outputs": [
    {
     "name": "stdout",
     "output_type": "stream",
     "text": [
      "0b11011\n",
      "11011\n",
      "0x1b\n",
      "1b\n",
      "0o33\n",
      "33\n"
     ]
    }
   ],
   "source": [
    "n = 27\n",
    "print(bin(n))\n",
    "print(f'{n:b}')\n",
    "\n",
    "print(hex(n))\n",
    "print(f'{n:x}')\n",
    "\n",
    "print(oct(n))\n",
    "print(f'{n:o}')"
   ]
  },
  {
   "cell_type": "markdown",
   "metadata": {},
   "source": [
    "Print Formatted Objects With F-Strings: You can print custom objects using f-strings. By default, when you pass an object instance to a f-string, it will display what the `__str__` method returns. However, you can also use the explicit conversion flag to display the `__repr__`\n",
    "\n",
    "!r - converts the value to a string using repr(). <br>\n",
    "!s - converts the value to a string using str()."
   ]
  },
  {
   "cell_type": "code",
   "execution_count": 6,
   "metadata": {},
   "outputs": [
    {
     "name": "stdout",
     "output_type": "stream",
     "text": [
      "A RGB Color\n",
      "Color(r=123,g=32,b=255)\n"
     ]
    }
   ],
   "source": [
    "class Color:\n",
    "    def __init__(self, r, g, b):\n",
    "        self.r = r\n",
    "        self.g = g\n",
    "        self.b = b\n",
    "    \n",
    "    def __str__(self):\n",
    "        return 'A RGB Color'\n",
    "\n",
    "    def __repr__(self):\n",
    "        return f'Color(r={self.r},g={self.g},b={self.b})'\n",
    "\n",
    "c = Color(123,32,255)\n",
    "# When no option is passed, the __str__ result is printed\n",
    "print(f'{c!s}')\n",
    "# When `obj!r` is used, the __repr__ output is printed\n",
    "print(f'{c!r}')\n"
   ]
  },
  {
   "cell_type": "markdown",
   "metadata": {},
   "source": [
    "There's also the `!a` option that escapes non-ASCII chars"
   ]
  },
  {
   "cell_type": "code",
   "execution_count": 7,
   "metadata": {},
   "outputs": [
    {
     "name": "stdout",
     "output_type": "stream",
     "text": [
      "Áeiöu\n",
      "'\\xc1ei\\xf6u'\n"
     ]
    }
   ],
   "source": [
    "utf_str = 'Áeiöu'\n",
    "print(utf_str)\n",
    "print(f'{utf_str!a}')"
   ]
  },
  {
   "cell_type": "markdown",
   "metadata": {},
   "source": [
    " F-Strings to Format a Float"
   ]
  },
  {
   "cell_type": "code",
   "execution_count": 8,
   "metadata": {},
   "outputs": [
    {
     "name": "stdout",
     "output_type": "stream",
     "text": [
      "4.123956\n",
      "4.12\n"
     ]
    }
   ],
   "source": [
    "num = 4.123956\n",
    "print(num) # if we don't specify, the float variable will use full precision\n",
    "print(f'{num:0.2f}')"
   ]
  },
  {
   "cell_type": "markdown",
   "metadata": {},
   "source": [
    "Format a Number as Percentage"
   ]
  },
  {
   "cell_type": "code",
   "execution_count": 9,
   "metadata": {},
   "outputs": [
    {
     "name": "stdout",
     "output_type": "stream",
     "text": [
      "39.080460%\n",
      "39.08%\n"
     ]
    }
   ],
   "source": [
    "total = 87\n",
    "true_pos = 34\n",
    "perc = true_pos / total\n",
    "print(f'{perc:%}')\n",
    "print(f'{perc:.2%}')"
   ]
  },
  {
   "cell_type": "markdown",
   "metadata": {},
   "source": [
    "Justify or Add Padding to a F-String"
   ]
  },
  {
   "cell_type": "code",
   "execution_count": 10,
   "metadata": {},
   "outputs": [
    {
     "name": "stdout",
     "output_type": "stream",
     "text": [
      "She says_____Hello\n",
      "She saysHello_____\n",
      "She saysHello     \n",
      "She says__Hello___\n"
     ]
    }
   ],
   "source": [
    "greetings = 'Hello'\n",
    "# right padding\n",
    "print(f'She says{greetings:_>10}')\n",
    "\n",
    "# left padding\n",
    "print(f'She says{greetings:_<10}')\n",
    "# < can be omitted\n",
    "print(f'She says{greetings:10}')\n",
    "\n",
    "# center\n",
    "print(f'She says{greetings:_^10}')"
   ]
  },
  {
   "cell_type": "markdown",
   "metadata": {},
   "source": [
    "In case you want to display the variable name surrounded by the curly brackets instead of rendering its value, you can escape it using double `{{<expr>}}`.\n"
   ]
  },
  {
   "cell_type": "code",
   "execution_count": 11,
   "metadata": {},
   "outputs": [
    {
     "name": "stdout",
     "output_type": "stream",
     "text": [
      "{hello} = Python\n"
     ]
    }
   ],
   "source": [
    "hello = 'Python'\n",
    "x = f'{{hello}} = {hello}'\n",
    "print(x)"
   ]
  },
  {
   "cell_type": "markdown",
   "metadata": {},
   "source": [
    "Add a Thousand Separator"
   ]
  },
  {
   "cell_type": "code",
   "execution_count": 12,
   "metadata": {},
   "outputs": [
    {
     "name": "stdout",
     "output_type": "stream",
     "text": [
      "123456789\n",
      "123_456_789\n"
     ]
    }
   ],
   "source": [
    "big_num = 123456789\n",
    "print(big_num)\n",
    "print(f'{big_num:_}')"
   ]
  },
  {
   "cell_type": "markdown",
   "metadata": {},
   "source": [
    " Format a Number With Commas as Decimal Separator"
   ]
  },
  {
   "cell_type": "code",
   "execution_count": 13,
   "metadata": {},
   "outputs": [
    {
     "name": "stdout",
     "output_type": "stream",
     "text": [
      "2343552.6516251625\n",
      "2,343,552.6516251625\n",
      "2,343,552.65\n"
     ]
    }
   ],
   "source": [
    "big_num = 2343552.6516251625\n",
    "print(big_num)\n",
    "print(f'{big_num:,}')\n",
    "print(f'{big_num:,.2f}')"
   ]
  },
  {
   "cell_type": "markdown",
   "metadata": {},
   "source": [
    "What about using spaces instead?"
   ]
  },
  {
   "cell_type": "code",
   "execution_count": 14,
   "metadata": {},
   "outputs": [
    {
     "name": "stdout",
     "output_type": "stream",
     "text": [
      "1 234 567 890\n"
     ]
    }
   ],
   "source": [
    "big_num = 1234567890\n",
    "x = f\"{big_num:,}\".replace(',', ' ')\n",
    "print(x)"
   ]
  },
  {
   "cell_type": "markdown",
   "metadata": {},
   "source": [
    "Number in Scientific Notation "
   ]
  },
  {
   "cell_type": "code",
   "execution_count": 15,
   "metadata": {},
   "outputs": [
    {
     "name": "stdout",
     "output_type": "stream",
     "text": [
      "2.343553e+06\n",
      "2.34e+06\n"
     ]
    }
   ],
   "source": [
    "num = 2343552.6516251625\n",
    "print(f'{num:e}')\n",
    "print(f'{num:.2e}')"
   ]
  },
  {
   "cell_type": "markdown",
   "metadata": {},
   "source": [
    "Using if-else Conditional in a F-String"
   ]
  },
  {
   "cell_type": "code",
   "execution_count": 16,
   "metadata": {},
   "outputs": [
    {
     "name": "stdout",
     "output_type": "stream",
     "text": [
      "this is a\n"
     ]
    }
   ],
   "source": [
    "a = 'this is a'\n",
    "b = 'this is b'\n",
    "\n",
    "res = f'{a if 10 > 5 else b}'\n",
    "print(res)"
   ]
  },
  {
   "cell_type": "markdown",
   "metadata": {},
   "source": [
    "F-String With a Dictionary"
   ]
  },
  {
   "cell_type": "code",
   "execution_count": 17,
   "metadata": {},
   "outputs": [
    {
     "name": "stdout",
     "output_type": "stream",
     "text": [
      "123\n"
     ]
    }
   ],
   "source": [
    "color = {\"R\": 123, \"G\": 145, \"B\": 255}\n",
    "print(f\"{color['R']}\")"
   ]
  },
  {
   "cell_type": "markdown",
   "metadata": {},
   "source": [
    "Concatenate F-Strings"
   ]
  },
  {
   "cell_type": "code",
   "execution_count": 18,
   "metadata": {},
   "outputs": [
    {
     "name": "stdout",
     "output_type": "stream",
     "text": [
      "13 45\n"
     ]
    }
   ],
   "source": [
    "print(\" \".join((f\"{13}\", f\"{45}\")))"
   ]
  },
  {
   "cell_type": "markdown",
   "metadata": {},
   "source": [
    "Format a Date With F-String"
   ]
  },
  {
   "cell_type": "code",
   "execution_count": 19,
   "metadata": {},
   "outputs": [
    {
     "name": "stdout",
     "output_type": "stream",
     "text": [
      "2023-04-14 21:09:11.952646\n",
      "2023-04-14 21:09:11\n",
      "2023-04-04 21:09:11.952646\n",
      "2023-04-04 21:09:11\n"
     ]
    }
   ],
   "source": [
    "import datetime\n",
    "\n",
    "now = datetime.datetime.now()\n",
    "ten_days_ago = now - datetime.timedelta(days=10)\n",
    "print(now)\n",
    "print(f'{now:%Y-%m-%d %H:%M:%S}')\n",
    "print(ten_days_ago)\n",
    "print(f'{ten_days_ago:%Y-%m-%d %H:%M:%S}')"
   ]
  },
  {
   "cell_type": "code",
   "execution_count": 20,
   "metadata": {},
   "outputs": [
    {
     "name": "stdout",
     "output_type": "stream",
     "text": [
      "3.8.10 (default, Mar 13 2023, 10:26:41) \n",
      "[GCC 9.4.0]\n"
     ]
    }
   ],
   "source": [
    "import sys\n",
    "print(sys.version)"
   ]
  },
  {
   "cell_type": "markdown",
   "metadata": {},
   "source": [
    "Add Leading Zeros: You can add leading zeros by adding using the format `{expr:0len}` where len is the length of the returned string. You can include a sign option. In this instance, `+` means the sign should be used for positive and negative numbers. The `-` is used only for negative numbers, which is the default behavior."
   ]
  },
  {
   "cell_type": "code",
   "execution_count": 21,
   "metadata": {},
   "outputs": [
    {
     "name": "stdout",
     "output_type": "stream",
     "text": [
      "00042\n",
      "@@@42\n",
      "00042\n",
      "+0042\n",
      "===============\n",
      "-0025\n",
      "@@-25\n",
      "-0025\n",
      "-0025\n"
     ]
    }
   ],
   "source": [
    "num = 42\n",
    "print(f'{num:05}')\n",
    "print(f'{num:@>5}')\n",
    "\n",
    "print(f'{num:-05}')\n",
    "print(f'{num:+05}')\n",
    "\n",
    "print('===============')\n",
    "\n",
    "num = -25\n",
    "print(f'{num:05}')\n",
    "print(f'{num:@>5}')\n",
    "\n",
    "print(f'{num:-05}')\n",
    "print(f'{num:+05}')"
   ]
  },
  {
   "cell_type": "markdown",
   "metadata": {},
   "source": [
    " Format a Multiline F-String (Dealing with New Lines and Variables)"
   ]
  },
  {
   "cell_type": "code",
   "execution_count": 22,
   "metadata": {},
   "outputs": [
    {
     "name": "stdout",
     "output_type": "stream",
     "text": [
      "R: 123\n",
      "G: 145\n",
      "B: 255\n",
      "\n",
      "R: 123\n",
      "G: 145\n",
      "B: 255\n",
      "\n",
      "R: 123\n",
      "G: 145\n",
      "B: 255\n",
      "\n"
     ]
    }
   ],
   "source": [
    "multi_line = (f'R: {color[\"R\"]}\\nG: {color[\"G\"]}\\nB: {color[\"B\"]}\\n')\n",
    "print(multi_line)\n",
    "\n",
    "x = (f'R: {color[\"R\"]}\\n' \n",
    "f'G: {color[\"G\"]}\\n' \n",
    "f'B: {color[\"B\"]}\\n')\n",
    "print(x)\n",
    "\n",
    "y = f'R: {color[\"R\"]}\\n' \\\n",
    "f'G: {color[\"G\"]}\\n' \\\n",
    "f'B: {color[\"B\"]}\\n'\n",
    "print(y)"
   ]
  }
 ],
 "metadata": {
  "kernelspec": {
   "display_name": "Python 3 (system-wide)",
   "language": "python",
   "name": "python3"
  },
  "language_info": {
   "codemirror_mode": {
    "name": "ipython",
    "version": 3
   },
   "file_extension": ".py",
   "mimetype": "text/x-python",
   "name": "python",
   "nbconvert_exporter": "python",
   "pygments_lexer": "ipython3",
   "version": "3.8.10"
  }
 },
 "nbformat": 4,
 "nbformat_minor": 4
}
